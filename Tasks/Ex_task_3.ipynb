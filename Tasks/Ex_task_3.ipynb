{
  "cells": [
    {
      "cell_type": "markdown",
      "metadata": {
        "id": "view-in-github",
        "colab_type": "text"
      },
      "source": [
        "<a href=\"https://colab.research.google.com/github/ArkadyHwang7/Univercity/blob/main/%D0%9A%D0%BE%D0%BF%D0%B8%D1%8F_%D0%B1%D0%BB%D0%BE%D0%BA%D0%BD%D0%BE%D1%82%D0%B0_%22%D0%94%D0%BE%D0%BF%D0%BE%D0%BB%D0%BD%D0%B8%D1%82%D0%B5%D0%BB%D1%8C%D0%BD%D0%BE%D0%B5_%D0%B7%D0%B0%D0%B4%D0%B0%D0%BD%D0%B8%D0%B5_%E2%84%963_%D0%9E%D0%B1%D1%80%D0%B0%D0%B1%D0%BE%D1%82%D0%BA%D0%B0_%D0%B8%D1%81%D0%BA%D0%BB%D1%8E%D1%87%D0%B5%D0%BD%D0%B8%D0%B9_%D0%B8_%D1%80%D0%B0%D0%B1%D0%BE%D1%82%D0%B0_%D1%81_%D1%82%D0%B5%D0%BA%D1%81%D1%82%D0%BE%D0%B2%D1%8B%D0%BC%D0%B8_%D1%84%D0%B0%D0%B9%D0%BB%D0%B0%D0%BC%D0%B8_ipynb%22.ipynb\" target=\"_parent\"><img src=\"https://colab.research.google.com/assets/colab-badge.svg\" alt=\"Open In Colab\"/></a>"
      ]
    },
    {
      "cell_type": "markdown",
      "id": "bb332bf9",
      "metadata": {
        "id": "bb332bf9"
      },
      "source": [
        "# **Дополнительное задание №3. Обработка исключений и работа с текстовыми файлами**"
      ]
    },
    {
      "cell_type": "markdown",
      "id": "aa6808db",
      "metadata": {
        "id": "aa6808db"
      },
      "source": [
        "**БАЗА:**\n",
        "\n",
        "- **Обработка исключений** позволяет перехватывать и обрабатывать ошибки, возникающие при выполнении программы, предотвращая её аварийное завершение.\n",
        "- **Работа с файлами** - важный навык для чтения, записи и обработки текстовой информации в Python.\n",
        "\n",
        "---"
      ]
    },
    {
      "cell_type": "markdown",
      "id": "2478deca",
      "metadata": {
        "id": "2478deca"
      },
      "source": [
        "## **I. Обработка исключений**"
      ]
    },
    {
      "cell_type": "markdown",
      "id": "0ab0b851",
      "metadata": {
        "id": "0ab0b851"
      },
      "source": [
        "### **Пункт №1. Обработка некорректного индекса (IndexError)**"
      ]
    },
    {
      "cell_type": "markdown",
      "id": "46e69e1f",
      "metadata": {
        "id": "46e69e1f"
      },
      "source": [
        "Создайте список из нескольких элементов (например, [10, 20, 30]). Попросите пользователя ввести индекс элемента, который нужно вывести. Если пользователь введёт индекс, выходящий за границы списка, перехватите IndexError и сообщите об этом.\n",
        "\n",
        "**ОБЯЗАТЕЛЬНО:**\n",
        "- Создайте список из минимум 5 элементов\n",
        "- Покажите содержимое списка перед работой\n",
        "- Протестируйте минимум 4 случая (корректный индекс, отрицательный, слишком большой, нечисловое значение)"
      ]
    },
    {
      "cell_type": "code",
      "execution_count": 16,
      "id": "724c5954",
      "metadata": {
        "id": "724c5954",
        "colab": {
          "base_uri": "https://localhost:8080/"
        },
        "outputId": "e2ca2b9e-d148-4ad3-e009-feb2a51e413f"
      },
      "outputs": [
        {
          "output_type": "stream",
          "name": "stdout",
          "text": [
            "[10, 20, 30, 40, 50]\n",
            "Введите индекс элемента, который хотите вывести: 2\n",
            "30\n",
            "Введите индекс элемента, который хотите вывести: -1\n",
            "50\n",
            "Введите индекс элемента, который хотите вывести: 2321141\n",
            "Ошибка: данного индекса нет в списке!\n",
            "Введите индекс элемента, который хотите вывести: ясвв\n",
            "Ошибка: выведи число!\n"
          ]
        }
      ],
      "source": [
        "N = [10, 20, 30, 40, 50]\n",
        "\n",
        "print(N)\n",
        "\n",
        "for i in range(4):\n",
        "    a = input(\"Введите индекс элемента, который хотите вывести: \")\n",
        "\n",
        "    try:\n",
        "        index = int(a)\n",
        "        print(N[index])\n",
        "    except IndexError:\n",
        "        print(\"Ошибка: данного индекса нет в списке!\")\n",
        "    except ValueError:\n",
        "        print(\"Ошибка: выведи число!\")"
      ]
    },
    {
      "cell_type": "markdown",
      "id": "7ac84eec",
      "metadata": {
        "id": "7ac84eec"
      },
      "source": [
        "---"
      ]
    },
    {
      "cell_type": "markdown",
      "id": "f8bfb6e1",
      "metadata": {
        "id": "f8bfb6e1"
      },
      "source": [
        "### **Пункт №2. Обработка исключений в цикле**"
      ]
    },
    {
      "cell_type": "markdown",
      "id": "63c3b706",
      "metadata": {
        "id": "63c3b706"
      },
      "source": [
        "Напишите программу, которая запрашивает у пользователя числа и добавляет их в список.\n",
        "- Если пользователь вводит некорректные данные, программа должна выводить сообщение об ошибке и продолжать работу.\n",
        "- Для выхода из программы пользователь должен ввести \"стоп\".\n",
        "\n",
        "**ОБЯЗАТЕЛЬНО:**\n",
        "- Покажите процесс ввода минимум 7 значений (включая ошибочные)\n",
        "- Выведите финальный список и статистику (сколько чисел введено успешно, сколько ошибок)"
      ]
    },
    {
      "cell_type": "markdown",
      "source": [
        "\n",
        "\n",
        "```\n",
        "# Пример:\n",
        "# Введите число: 10\n",
        "# Введите число: текст (Ошибка: это не число)\n",
        "# Введите число: стоп\n",
        "# Итоговый список: [10]\n",
        "```\n",
        "\n"
      ],
      "metadata": {
        "id": "aiWaEPOuoHDS"
      },
      "id": "aiWaEPOuoHDS"
    },
    {
      "cell_type": "code",
      "execution_count": 28,
      "id": "31448e09",
      "metadata": {
        "id": "31448e09",
        "colab": {
          "base_uri": "https://localhost:8080/"
        },
        "outputId": "04f47e14-6ed5-44f2-fd48-27b39e043c7f"
      },
      "outputs": [
        {
          "output_type": "stream",
          "name": "stdout",
          "text": [
            "Введите число: 13\n",
            "Введите число: 44\n",
            "Введите число: nut\n",
            "Ошибка: это не число!\n",
            "Введите число: 87\n",
            "Введите число: psp\n",
            "Ошибка: это не число!\n",
            "Введите число: 134\n",
            "Введите число: ils\n",
            "Ошибка: это не число!\n",
            "Введите число: стоп\n",
            "Итоговый список: [13, 44, 87, 134]\n",
            "Выведено успешно: 4\n",
            "Ошибок: 3\n"
          ]
        }
      ],
      "source": [
        "N = []\n",
        "right_count = 0\n",
        "false_count = 0\n",
        "\n",
        "while True:\n",
        "    a = input(\"Введите число: \")\n",
        "    if a.lower() == \"стоп\":\n",
        "        break\n",
        "    try:\n",
        "        number = int(a)\n",
        "        N.append(number)\n",
        "        right_count += 1\n",
        "    except ValueError:\n",
        "        print(\"Ошибка: это не число!\")\n",
        "        false_count += 1\n",
        "print(f\"Итоговый список:\", N)\n",
        "print(f\"Выведено успешно: {right_count}\")\n",
        "print(f\"Ошибок: {false_count}\")\n"
      ]
    },
    {
      "cell_type": "markdown",
      "metadata": {
        "id": "Yv-FNYTEp0vV"
      },
      "source": [
        "---"
      ],
      "id": "Yv-FNYTEp0vV"
    },
    {
      "cell_type": "markdown",
      "id": "5971f85d",
      "metadata": {
        "id": "5971f85d"
      },
      "source": [
        "### **Пункт №3**"
      ]
    },
    {
      "cell_type": "markdown",
      "id": "b1457074",
      "metadata": {
        "id": "b1457074"
      },
      "source": [
        "Создайте функцию `get_list_element(lst, index)`, которая безопасно извлекает элемент списка по индексу с использованием блоков `try`, `except`, `else` и `finally`.\n",
        "\n",
        "Функция должна:\n",
        "- Обрабатывать выход за пределы списка\n",
        "- Обрабатывать некорректный тип индекса\n",
        "- Выводить сообщение о попытке доступа в блоке `finally`\n",
        "\n",
        "**ОБЯЗАТЕЛЬНО:**\n",
        "- Выведите результаты для минимум 4 различных случаев (успешный доступ, выход за границы, отрицательный индекс, нечисловой индекс)\n",
        "- Покажите, что блок `finally` выполняется всегда\n",
        "\n",
        "```python\n",
        "# Пример использования:\n",
        "my_list = [1, 2, 3, 4, 5]\n",
        "get_list_element(my_list, 2)   # Вывод: \"Элемент: 3\", \"Попытка доступа завершена\"\n",
        "get_list_element(my_list, 10)  # Вывод: \"Индекс вне диапазона\", \"Попытка доступа завершена\"\n",
        "```"
      ]
    },
    {
      "cell_type": "code",
      "execution_count": 41,
      "id": "1c067cf3",
      "metadata": {
        "id": "1c067cf3",
        "colab": {
          "base_uri": "https://localhost:8080/"
        },
        "outputId": "0401b7fb-63e7-4bc6-b08a-c21375f801fe"
      },
      "outputs": [
        {
          "output_type": "stream",
          "name": "stdout",
          "text": [
            "[1, 2, 3, 4, 5]\n",
            "Введите индекс:2\n",
            "Элемент: 3\n",
            "Попытка доступа завершена.\n",
            "\n",
            "Введите индекс:10\n",
            "Индекс вне диапазона списка.\n",
            "Попытка доступа завершена.\n",
            "\n",
            "Введите индекс:-3\n",
            "Элемент: 3\n",
            "Попытка доступа завершена.\n",
            "\n",
            "Введите индекс:haja\n",
            "Индекс должен быть числом.\n",
            "Попытка доступа завершена.\n",
            "\n"
          ]
        }
      ],
      "source": [
        "def get_list_element(lst, index):\n",
        "    try:\n",
        "        element = lst[index]\n",
        "    except IndexError:\n",
        "        print(\"Индекс вне диапазона списка.\")\n",
        "    except TypeError:\n",
        "        print(\"Индекс должен быть числом.\")\n",
        "    else:\n",
        "        print(f\"Элемент: {element}\")\n",
        "    finally:\n",
        "        print(\"Попытка доступа завершена.\\n\")\n",
        "\n",
        "my_list = [1, 2, 3, 4, 5]\n",
        "print(my_list)\n",
        "for i in range(4):\n",
        "    a = input(\"Введите индекс:\")\n",
        "    try:\n",
        "        b = int(a)\n",
        "    except ValueError:\n",
        "        b = a\n",
        "    get_list_element(my_list, b)\n",
        "\n",
        "\n"
      ]
    },
    {
      "cell_type": "markdown",
      "id": "b5bb39c7",
      "metadata": {
        "id": "b5bb39c7"
      },
      "source": [
        "---"
      ]
    },
    {
      "cell_type": "markdown",
      "id": "b0972d59",
      "metadata": {
        "id": "b0972d59"
      },
      "source": [
        "## **II. Работа с текстовыми файлами**"
      ]
    },
    {
      "cell_type": "markdown",
      "id": "35729435",
      "metadata": {
        "id": "35729435"
      },
      "source": [
        "### **Пункт №1. Запись в файл**"
      ]
    },
    {
      "cell_type": "markdown",
      "id": "3121365f",
      "metadata": {
        "id": "3121365f"
      },
      "source": [
        "Напишите программу, которая запрашивает у пользователя строку и записывает её в файл output.txt в режиме дозаписи.\n",
        "\n",
        "**ОБЯЗАТЕЛЬНО:**\n",
        "- Запросите у пользователя минимум 3 строки\n",
        "- Покажите содержимое файла после записи"
      ]
    },
    {
      "cell_type": "code",
      "execution_count": 82,
      "id": "cbce6c5f",
      "metadata": {
        "id": "cbce6c5f",
        "colab": {
          "base_uri": "https://localhost:8080/"
        },
        "outputId": "b9403fd9-4a1c-4304-ed28-2eb04f91baa5"
      },
      "outputs": [
        {
          "output_type": "stream",
          "name": "stdout",
          "text": [
            "стол\n",
            "стул\n",
            "лампа\n",
            "табуретка \n",
            "жвачка\n",
            "Содержимое файла:\n",
            "стол\n",
            "стул\n",
            "лампа\n",
            "табуретка \n",
            "жвачка\n",
            "\n"
          ]
        }
      ],
      "source": [
        "with open('output.txt', 'w', encoding='utf-8') as file:\n",
        "    N = []\n",
        "    for i in range(5):\n",
        "        n = input()\n",
        "        file.write(n + '\\n')\n",
        "    file.close()с\n",
        "with open('output.txt', encoding = 'utf8') as text:\n",
        "    a = text.read()\n",
        "    print(f'Содержимое файла:\\n{a}')\n",
        "\n",
        ""
      ]
    },
    {
      "cell_type": "markdown",
      "id": "361b3d2b",
      "metadata": {
        "id": "361b3d2b"
      },
      "source": [
        "---"
      ]
    },
    {
      "cell_type": "markdown",
      "id": "cce864b4",
      "metadata": {
        "id": "cce864b4"
      },
      "source": [
        "### **Пункт №2. Чтение из файла**"
      ]
    },
    {
      "cell_type": "markdown",
      "id": "4fc83b82",
      "metadata": {
        "id": "4fc83b82"
      },
      "source": [
        "Напишите программу, которая открывает файл output.txt и выводит его содержимое на экран.\n",
        "\n",
        "**ОБЯЗАТЕЛЬНО:**\n",
        "- Создайте файл с минимум 5 строками текста\n",
        "- Покажите содержимое файла целиком\n",
        "- Обработайте случай отсутствующего файла"
      ]
    },
    {
      "cell_type": "code",
      "execution_count": 78,
      "id": "df27a986",
      "metadata": {
        "id": "df27a986",
        "colab": {
          "base_uri": "https://localhost:8080/"
        },
        "outputId": "b96e0f0a-1116-45aa-d44d-11a658302c70"
      },
      "outputs": [
        {
          "output_type": "stream",
          "name": "stdout",
          "text": [
            "Введите имя файла: apa\n",
            "ОШИБКА: Файл 'apa' не найден!\n",
            "Введите имя файла: output\n",
            "Содержимое файла:\n",
            "стол\n",
            "стул\n",
            "лампа\n",
            "табуретка\n",
            "жвачка\n",
            "\n",
            "Введите имя файла: \n",
            "Конец программы\n"
          ]
        }
      ],
      "source": [
        "while True:\n",
        "    a = input(\"Введите имя файла: \")\n",
        "    if a == \"\":\n",
        "        print(\"Конец программы\")\n",
        "        break\n",
        "\n",
        "    filename = f\"{a}.txt\"\n",
        "\n",
        "    try:\n",
        "        with open(filename, \"r\", encoding=\"utf-8\") as file:\n",
        "            content = file.read()\n",
        "            print(\"Содержимое файла:\")\n",
        "            print(content)\n",
        "    except FileNotFoundError:\n",
        "        print(f\"ОШИБКА: Файл '{a}' не найден!\")"
      ]
    },
    {
      "cell_type": "markdown",
      "id": "2be296a2",
      "metadata": {
        "id": "2be296a2"
      },
      "source": [
        "---"
      ]
    },
    {
      "cell_type": "markdown",
      "id": "045696ba",
      "metadata": {
        "id": "045696ba"
      },
      "source": [
        "### **Пункт №3. Подсчет строк в файле**"
      ]
    },
    {
      "cell_type": "markdown",
      "id": "570ac3e9",
      "metadata": {
        "id": "570ac3e9"
      },
      "source": [
        "Напишите программу, которая открывает файл output.txt и подсчитывает количество строк в нём.\n",
        "\n",
        "**ОБЯЗАТЕЛЬНО:**\n",
        "- Создайте тестовый файл с известным количеством строк (минимум 10)\n",
        "- Покажите первые 3 строки файла\n",
        "- Выведите общее количество строк\n",
        "- Выведите количество непустых строк"
      ]
    },
    {
      "cell_type": "code",
      "execution_count": 141,
      "id": "84aa205a",
      "metadata": {
        "id": "84aa205a",
        "colab": {
          "base_uri": "https://localhost:8080/"
        },
        "outputId": "e1f54c6b-b2c7-4eae-c4f8-194faa015b07"
      },
      "outputs": [
        {
          "output_type": "stream",
          "name": "stdout",
          "text": [
            "'ВК'\n",
            "'Аниме'\n",
            "'Телега'\n",
            "Общее количество строк: 10\n",
            "Количество непустых строк: 6\n"
          ]
        }
      ],
      "source": [
        "N = [\"ВК\\n\",\"Аниме\\n\",\"Телега\\n\", \"\\n\", \"Робик\\n\", \"\\n\", \"Ютуб\\n\", \"\\n\", \"\\n\", \"Гугл\\n\"]\n",
        "\n",
        "with open(\"output.txt\", \"w\", encoding=\"utf-8\") as file:\n",
        "    file.writelines(N)\n",
        "\n",
        "with open(\"output.txt\", \"r\", encoding=\"utf-8\") as file:\n",
        "    lines = file.readlines()\n",
        "\n",
        "non_empty_lines = [line.strip() for line in lines if line.strip()]\n",
        "\n",
        "for line in non_empty_lines[:3]:\n",
        "    print(f\"'{line}'\")\n",
        "\n",
        "print(f\"Общее количество строк: {len(lines)}\")\n",
        "print(f\"Количество непустых строк: {len(non_empty_lines)}\")"
      ]
    },
    {
      "cell_type": "markdown",
      "id": "94c6dcb0",
      "metadata": {
        "id": "94c6dcb0"
      },
      "source": [
        "---"
      ]
    },
    {
      "cell_type": "markdown",
      "id": "56f2a74e",
      "metadata": {
        "id": "56f2a74e"
      },
      "source": [
        "### **Пункт №4. Копирование содержимого файла**"
      ]
    },
    {
      "cell_type": "markdown",
      "id": "ed736046",
      "metadata": {
        "id": "ed736046"
      },
      "source": [
        "Напишите программу, которая копирует содержимое файла input.txt в файл output.txt.\n",
        "\n",
        "**ОБЯЗАТЕЛЬНО:**\n",
        "- Создайте исходный файл с тестовым содержимым (минимум 5 строк)\n",
        "- Покажите содержимое исходного файла\n",
        "- Выполните копирование\n",
        "- Покажите содержимое скопированного файла\n",
        "- Обработайте случай отсутствия исходного файла"
      ]
    },
    {
      "cell_type": "code",
      "execution_count": 142,
      "id": "31bd8a06",
      "metadata": {
        "id": "31bd8a06",
        "colab": {
          "base_uri": "https://localhost:8080/"
        },
        "outputId": "88549569-2aac-4304-c9fe-9c00e05df00b"
      },
      "outputs": [
        {
          "output_type": "stream",
          "name": "stdout",
          "text": [
            "Содержимое \"output.txt\":\n",
            "ВК\n",
            "Аниме\n",
            "Телега\n",
            "\n",
            "Робик\n",
            "\n",
            "Ютуб\n",
            "\n",
            "\n",
            "Гугл\n",
            "\n",
            "\n",
            "Введите название файла для копирования: ttt\n",
            "Ошибка: файл не найден!\n",
            "Введите название файла для копирования: input\n",
            "\n",
            "Содержимое \"output.txt\" после копирования:\n",
            "ВК\n",
            "Аниме\n",
            "Телега\n",
            "\n",
            "Робик\n",
            "\n",
            "Ютуб\n",
            "\n",
            "\n",
            "Гугл\n",
            "ТЦ\n",
            "ВУЗ\n",
            "ГУМ\n",
            "ВШЭ\n",
            "МГУ\n",
            "ТЦ\n",
            "ВУЗ\n",
            "ГУМ\n",
            "ВШЭ\n",
            "МГУ\n",
            "ТЦ\n",
            "ВУЗ\n",
            "ГУМ\n",
            "ВШЭ\n",
            "МГУ\n",
            "\n"
          ]
        }
      ],
      "source": [
        "N = [\"ТЦ\\n\", \"ВУЗ\\n\", \"ГУМ\\n\", \"ВШЭ\\n\", \"МГУ\\n\"]\n",
        "\n",
        "try:\n",
        "    with open(\"output.txt\", \"r\", encoding=\"utf8\") as f:\n",
        "        print(f'Содержимое \"output.txt\":\\n{f.read()}\\n')\n",
        "except FileNotFoundError:\n",
        "    print(\"Ошибка: файл не найден!\\n\")\n",
        "\n",
        "with open(\"input.txt\", \"a\", encoding=\"utf8\") as f:\n",
        "    f.writelines(N)\n",
        "\n",
        "while True:\n",
        "    filename = input(\"Введите название файла для копирования: \")\n",
        "    try:\n",
        "        with open(filename, \"r\", encoding=\"utf8\") as src, open(\"output.txt\", \"a\", encoding=\"utf8\") as dest:\n",
        "            dest.writelines(src.readlines())\n",
        "\n",
        "        with open(\"output.txt\", \"r\", encoding=\"utf8\") as f:\n",
        "            print(f'\\nСодержимое \"output.txt\" после копирования:\\n{f.read()}')\n",
        "        break\n",
        "    except FileNotFoundError:\n",
        "        print(\"Ошибка: файл не найден!\")\n",
        "    except Exception as e:\n",
        "        print(f\"Ошибка: {e}\")"
      ]
    },
    {
      "cell_type": "markdown",
      "id": "2f7c8ee5",
      "metadata": {
        "id": "2f7c8ee5"
      },
      "source": [
        "---"
      ]
    },
    {
      "cell_type": "markdown",
      "id": "70ee398b",
      "metadata": {
        "id": "70ee398b"
      },
      "source": [
        "### **Пункт №5. Поиск слова в файле**"
      ]
    },
    {
      "cell_type": "markdown",
      "id": "c67f8987",
      "metadata": {
        "id": "c67f8987"
      },
      "source": [
        "Напишите программу, которая открывает файл output.txt и проверяет, содержится ли в нём слово, введённое пользователем.\n",
        "\n",
        "**ОБЯЗАТЕЛЬНО:**\n",
        "- Создайте файл с минимум 10 строками текста\n",
        "- Покажите содержимое файла\n",
        "- Протестируйте поиск минимум 5 различных слов\n",
        "- Выведите номера строк, где найдено слово\n",
        "- Покажите количество вхождений слова"
      ]
    },
    {
      "cell_type": "code",
      "execution_count": 157,
      "id": "d961bbf3",
      "metadata": {
        "id": "d961bbf3",
        "colab": {
          "base_uri": "https://localhost:8080/"
        },
        "outputId": "884d3469-b3d4-4661-dead-6a71a6056539"
      },
      "outputs": [
        {
          "output_type": "stream",
          "name": "stdout",
          "text": [
            "Содержимое файла:\n",
            "У меня есть телефон.\n",
            "Я звоню по телефону.\n",
            "Я звоню по телефону\n",
            "В Африку, в Америку.\n",
            "В Африке живёт слон.\n",
            "В Америке живёт слон.\n",
            "В Африке живёт слон,\n",
            "В Америке живёт слон.\n",
            "Я звоню по телефону\n",
            "В Африку, в Америку.\n",
            "У меня есть телефон.\n",
            "Я звоню по телефону.\n",
            "\n",
            "Введите слово для поиска: звоню\n",
            "Слово 'звоню' найдено в строках: 2, 3, 9, 12\n",
            "Количество слов: 4\n",
            "\n",
            "Введите слово для поиска: телефону\n",
            "Слово 'телефону' найдено в строках: 2, 3, 9, 12\n",
            "Количество слов: 4\n",
            "\n",
            "Введите слово для поиска: слон\n",
            "Слово 'слон' найдено в строках: 5, 6, 7, 8\n",
            "Количество слов: 4\n",
            "\n",
            "Введите слово для поиска: я\n",
            "Слово 'я' найдено в строках: 1, 2, 3, 9, 11, 12\n",
            "Количество слов: 6\n",
            "\n",
            "Введите слово для поиска: по\n",
            "Слово 'по' найдено в строках: 2, 3, 9, 12\n",
            "Количество слов: 4\n",
            "\n",
            "Введите слово для поиска: exit\n",
            "Конец программы\n"
          ]
        }
      ],
      "source": [
        "N = [\n",
        "    \"У меня есть телефон.\\n\",\n",
        "    \"Я звоню по телефону.\\n\",\n",
        "    \"Я звоню по телефону\\n\",\n",
        "    \"В Африку, в Америку.\\n\",\n",
        "    \"В Африке живёт слон.\\n\",\n",
        "    \"В Америке живёт слон.\\n\",\n",
        "    \"В Африке живёт слон,\\n\",\n",
        "    \"В Америке живёт слон.\\n\",\n",
        "    \"Я звоню по телефону\\n\",\n",
        "    \"В Африку, в Америку.\\n\",\n",
        "    \"У меня есть телефон.\\n\",\n",
        "    \"Я звоню по телефону.\\n\"\n",
        "]\n",
        "\n",
        "filename = \"output.txt\"\n",
        "\n",
        "with open(filename, \"w\", encoding=\"utf-8\") as f:\n",
        "    f.writelines(N)\n",
        "\n",
        "print(\"Содержимое файла:\")\n",
        "with open(filename, \"r\", encoding=\"utf-8\") as f:\n",
        "    line_num = 1\n",
        "    for line in f:\n",
        "        print(f\"{line.rstrip()}\")\n",
        "        line_num += 1\n",
        "print()\n",
        "\n",
        "while True:\n",
        "    word = input(\"Введите слово для поиска: \").lower()\n",
        "    if word == \"exit\":\n",
        "        print(\"Конец программы\")\n",
        "        break\n",
        "\n",
        "    stro = []\n",
        "    count = 0\n",
        "    with open(filename, \"r\", encoding=\"utf-8\") as f:\n",
        "        line_num = 1\n",
        "        for line in f:\n",
        "            c = line.lower().count(word)\n",
        "            if c > 0:\n",
        "                stro.append(str(line_num))\n",
        "                count += c\n",
        "            line_num += 1\n",
        "\n",
        "    if count > 0:\n",
        "        print(f\"Слово '{word}' найдено в строках: {', '.join(stro)}\")\n",
        "        print(f\"Количество слов: {count}\\n\")\n",
        "    else:\n",
        "        print(f\"Слово '{word}' не найдено.\\n\")"
      ]
    },
    {
      "cell_type": "markdown",
      "id": "8d69c77a",
      "metadata": {
        "id": "8d69c77a"
      },
      "source": [
        "---"
      ]
    },
    {
      "cell_type": "markdown",
      "id": "0079e067",
      "metadata": {
        "id": "0079e067"
      },
      "source": [
        "### **Пункт №6. Чтение файла с обработкой FileNotFoundError**"
      ]
    },
    {
      "cell_type": "markdown",
      "id": "c3d27312",
      "metadata": {
        "id": "c3d27312"
      },
      "source": [
        "Напишите программу, которая запрашивает у пользователя имя файла и пытается открыть его. Если файла не существует, перехватите FileNotFoundError и выведите сообщение «Файл не найден!».\n",
        "\n",
        "**ОБЯЗАТЕЛЬНО:**\n",
        "- Протестируйте с существующим файлом\n",
        "- Протестируйте с несуществующим файлом\n",
        "- Покажите содержимое существующего файла"
      ]
    },
    {
      "cell_type": "code",
      "execution_count": 165,
      "id": "0c262bd2",
      "metadata": {
        "id": "0c262bd2",
        "colab": {
          "base_uri": "https://localhost:8080/"
        },
        "outputId": "c5204428-dfc1-42b9-984d-96b6257b7d29"
      },
      "outputs": [
        {
          "output_type": "stream",
          "name": "stdout",
          "text": [
            "Введите имя файла: ssss.txt\n",
            "Файл не найден!\n",
            "\n",
            "Введите имя файла: output.txt\n",
            "\n",
            "Содержимое файла 'output.txt':\n",
            "У меня есть телефон.\n",
            "Я звоню по телефону.\n",
            "Я звоню по телефону\n",
            "В Африку, в Америку.\n",
            "В Африке живёт слон.\n",
            "В Америке живёт слон.\n",
            "В Африке живёт слон,\n",
            "В Америке живёт слон.\n",
            "Я звоню по телефону\n",
            "В Африку, в Америку.\n",
            "У меня есть телефон.\n",
            "Я звоню по телефону.\n"
          ]
        }
      ],
      "source": [
        "while True:\n",
        "    filename = input(\"Введите имя файла: \").strip()\n",
        "    try:\n",
        "        with open(filename, \"r\", encoding=\"utf-8\") as f:\n",
        "            print(f\"\\nСодержимое файла '{filename}':\")\n",
        "            for line in f:\n",
        "                print(line.rstrip())\n",
        "        break\n",
        "    except FileNotFoundError:\n",
        "        print(\"Файл не найден!\\n\")"
      ]
    },
    {
      "cell_type": "markdown",
      "id": "c3258b46",
      "metadata": {
        "id": "c3258b46"
      },
      "source": [
        "---"
      ]
    },
    {
      "cell_type": "markdown",
      "id": "02e0767b",
      "metadata": {
        "id": "02e0767b"
      },
      "source": [
        "### **Пункт №7. Подсчет статистики файла**"
      ]
    },
    {
      "cell_type": "markdown",
      "id": "1c33b711",
      "metadata": {
        "id": "1c33b711"
      },
      "source": [
        "Напишите функцию `file_statistics(filename)`, которая читает текстовый файл и возвращает словарь со статистикой:\n",
        "- Количество строк\n",
        "- Количество слов\n",
        "- Количество символов (с пробелами и без)\n",
        "\n",
        "**ОБЯЗАТЕЛЬНО:**\n",
        "- Создайте тестовый файл с минимум 5 строками текста\n",
        "- Выведите содержимое файла ДО обработки\n",
        "- Выведите полученную статистику\n",
        "- Обработайте случай несуществующего файла\n",
        "\n",
        "```python\n",
        "# Создание тестового файла\n",
        "test_content = \"\"\"Первая строка текста\n",
        "Вторая строка с большим количеством слов\n",
        "Третья строка\n",
        "Четвертая строка для теста\n",
        "Пятая и последняя строка\"\"\"\n",
        "\n",
        "# Сохраните в файл и продемонстрируйте работу\n",
        "```"
      ]
    },
    {
      "cell_type": "code",
      "execution_count": 173,
      "id": "43bfd6b8",
      "metadata": {
        "id": "43bfd6b8",
        "colab": {
          "base_uri": "https://localhost:8080/"
        },
        "outputId": "7419a7af-322d-4306-ede4-cd1989021eb0"
      },
      "outputs": [
        {
          "output_type": "stream",
          "name": "stdout",
          "text": [
            "Содержимое файла:\n",
            "Первая строка текста\n",
            "Вторая строка с большим количеством слов\n",
            "Третья строка\n",
            "Четвертая строка для теста\n",
            "Пятая и последняя строка\n",
            "\n",
            "Статистика файла:\n",
            "Количество строк:: 5\n",
            "Количество слов:: 19\n",
            "Количество символов с пробелами: 127\n",
            "Количество символов без пробелов: 109\n",
            "Введите имя txt файла (или 'exit' для выхода): asaa.txt\n",
            "Файл 'asaa.txt' не найден!\n",
            "Введите имя txt файла (или 'exit' для выхода): exit\n",
            "Конец программы\n"
          ]
        }
      ],
      "source": [
        "test_content = \"\"\"Первая строка текста\n",
        "Вторая строка с большим количеством слов\n",
        "Третья строка\n",
        "Четвертая строка для теста\n",
        "Пятая и последняя строка\"\"\"\n",
        "\n",
        "filename = \"test_file.txt\"\n",
        "\n",
        "with open(filename, \"w\", encoding=\"utf-8\") as f:\n",
        "    f.write(test_content)\n",
        "\n",
        "print(\"Содержимое файла:\")\n",
        "with open(filename, \"r\", encoding=\"utf-8\") as f:\n",
        "    for line in f:\n",
        "        print(line.rstrip())\n",
        "print()\n",
        "\n",
        "def file_statistics(filename):\n",
        "    stats = {\n",
        "        \"Количество строк:\": 0,\n",
        "        \"Количество слов:\": 0,\n",
        "        \"Количество символов с пробелами\": 0,\n",
        "        \"Количество символов без пробелов\": 0\n",
        "    }\n",
        "    try:\n",
        "        with open(filename, \"r\", encoding=\"utf-8\") as f:\n",
        "            for line in f:\n",
        "                stats[\"Количество строк:\"] += 1\n",
        "                stats[\"Количество слов:\"] += len(line.split())\n",
        "                stats[\"Количество символов с пробелами\"] += len(line)\n",
        "                stats[\"Количество символов без пробелов\"] += len(line.replace(\" \", \"\").rstrip(\"\\n\"))\n",
        "        return stats\n",
        "    except FileNotFoundError:\n",
        "        print(f\"Файл '{filename}' не найден!\")\n",
        "        return None\n",
        "\n",
        "statistics = file_statistics(filename)\n",
        "\n",
        "if statistics:\n",
        "    print(\"Статистика файла:\")\n",
        "    for key, value in statistics.items():\n",
        "        print(f\"{key}: {value}\")\n",
        "\n",
        "while True:\n",
        "    user_file = input(\"Введите имя txt файла (или 'exit' для выхода): \").strip()\n",
        "    if user_file.lower() == \"exit\":\n",
        "        print(\"Конец программы\")\n",
        "        break\n",
        "\n",
        "    stats = file_statistics(user_file)\n",
        "    if stats:\n",
        "        print(f\"\\nСтатистика файла '{user_file}':\")\n",
        "        for key, value in stats.items():\n",
        "            print(f\"{key}: {value}\")\n",
        "        print()"
      ]
    },
    {
      "cell_type": "markdown",
      "id": "903281dd",
      "metadata": {
        "id": "903281dd"
      },
      "source": [
        "---"
      ]
    },
    {
      "cell_type": "markdown",
      "id": "ad8b4ae4",
      "metadata": {
        "id": "ad8b4ae4"
      },
      "source": [
        "### **Пункт №8. Поиск и замена в файле**"
      ]
    },
    {
      "cell_type": "markdown",
      "id": "e5230d0a",
      "metadata": {
        "id": "e5230d0a"
      },
      "source": [
        "Напишите функцию `replace_in_file(filename, old_text, new_text)`, которая заменяет все вхождения `old_text` на `new_text` в файле и сохраняет результат в новый файл с префиксом \"modified_\".\n",
        "\n",
        "**ОБЯЗАТЕЛЬНО:**\n",
        "- Создайте файл с текстом, содержащим минимум 3 вхождения заменяемого слова\n",
        "- Выведите содержимое файла ДО замены\n",
        "- Выполните замену\n",
        "- Выведите содержимое файла ПОСЛЕ замены\n",
        "- Покажите количество произведенных замен"
      ]
    },
    {
      "cell_type": "code",
      "execution_count": 187,
      "id": "64a05e35",
      "metadata": {
        "id": "64a05e35",
        "colab": {
          "base_uri": "https://localhost:8080/"
        },
        "outputId": "52c9e253-9754-4575-9349-64a5f8933ee7"
      },
      "outputs": [
        {
          "output_type": "stream",
          "name": "stdout",
          "text": [
            "Содержимое файла ДО замены:\n",
            "воробышки, воробышки, \n",
            "песенки поют. \n",
            "воробышки, воробышки, \n",
            "в травке прячутся.\n",
            "\n",
            "Количество замен: 4\n",
            "\n",
            "Содержимое файла ПОСЛЕ замены:\n",
            "синички, синички, \n",
            "песенки поют. \n",
            "синички, синички, \n",
            "в травке прячутся.\n"
          ]
        }
      ],
      "source": [
        "test_content = \"\"\"воробышки, воробышки,\n",
        "песенки поют.\n",
        "воробышки, воробышки,\n",
        "в травке прячутся.\"\"\"\n",
        "\n",
        "filename = \"poem.txt\"\n",
        "\n",
        "with open(filename, mode='w', encoding='utf-8') as file:\n",
        "    file.write(test_content)\n",
        "\n",
        "print(\"Содержимое файла ДО замены:\")\n",
        "with open(filename, encoding='utf-8') as file:\n",
        "    original_text = file.read()\n",
        "    print(original_text)\n",
        "print()\n",
        "\n",
        "def replace_in_file(filename, old_text, new_text):\n",
        "    try:\n",
        "        with open(filename, encoding='utf-8') as file:\n",
        "            content = file.read()\n",
        "\n",
        "        count = content.count(old_text)\n",
        "\n",
        "        modified_content = content.replace(old_text, new_text)\n",
        "\n",
        "        new_filename = \"modified_\" + filename\n",
        "        with open(new_filename, mode='w', encoding='utf-8') as file:\n",
        "            file.write(modified_content)\n",
        "\n",
        "        return new_filename, count\n",
        "\n",
        "    except FileNotFoundError:\n",
        "        print(f\"Файл '{filename}' не найден!\")\n",
        "        return None, 0\n",
        "\n",
        "new_file, r = replace_in_file(filename, \"воробышки\", \"синички\")\n",
        "\n",
        "if new_file:\n",
        "    print(f\"Количество замен: {r}\\n\")\n",
        "    print(f\"Содержимое файла ПОСЛЕ замены:\")\n",
        "    with open(new_file, encoding='utf-8') as file:\n",
        "        print(file.read())"
      ]
    },
    {
      "cell_type": "markdown",
      "id": "f77b0568",
      "metadata": {
        "id": "f77b0568"
      },
      "source": [
        "---"
      ]
    },
    {
      "cell_type": "markdown",
      "id": "79a081b1",
      "metadata": {
        "id": "79a081b1"
      },
      "source": [
        "### **Пункт №9. Объединение файлов**"
      ]
    },
    {
      "cell_type": "markdown",
      "id": "599cee3c",
      "metadata": {
        "id": "599cee3c"
      },
      "source": [
        "Создайте функцию `merge_files(file_list, output_file)`, которая объединяет содержимое нескольких текстовых файлов в один, добавляя после каждого разделитель.\n",
        "\n",
        "**ОБЯЗАТЕЛЬНО:**\n",
        "- Создайте минимум 3 файла с разным содержимым\n",
        "- Выведите содержимое КАЖДОГО исходного файла\n",
        "- Выполните объединение\n",
        "- Выведите содержимое результирующего файла"
      ]
    },
    {
      "cell_type": "code",
      "execution_count": 195,
      "id": "581b5868",
      "metadata": {
        "id": "581b5868",
        "colab": {
          "base_uri": "https://localhost:8080/"
        },
        "outputId": "3faf9c8f-dbde-42eb-db50-d1d890cded12"
      },
      "outputs": [
        {
          "output_type": "stream",
          "name": "stdout",
          "text": [
            "Содержимое файла 'file1.txt':\n",
            "Всем привет\n",
            "\n",
            "Содержимое файла 'file2.txt':\n",
            "едем на дачу\n",
            "\n",
            "Содержимое файла 'file3.txt':\n",
            "это моя задача\n",
            "\n",
            "\n",
            "Содержимое результирующего файла 'merged_file.txt':\n",
            "Всем привет\n",
            "едем на дачу\n",
            "это моя задача\n"
          ]
        }
      ],
      "source": [
        "files_content = {\n",
        "    \"file1.txt\": \"Всем привет\",\n",
        "    \"file2.txt\": \"едем на дачу\",\n",
        "    \"file3.txt\": \"это моя задача\"\n",
        "}\n",
        "\n",
        "for fname, content in files_content.items():\n",
        "    with open(fname, \"w\", encoding=\"utf-8\") as f:\n",
        "        f.write(content)\n",
        "\n",
        "def merge_files(file_list, output_file):\n",
        "    separator = \"\\n\"\n",
        "    combined_content = \"\"\n",
        "\n",
        "    for fname in file_list:\n",
        "        try:\n",
        "            with open(fname, \"r\", encoding=\"utf-8\") as f:\n",
        "                content = f.read()\n",
        "                print(f\"Содержимое файла '{fname}':\")\n",
        "                print(content)\n",
        "                print()\n",
        "                combined_content += content\n",
        "\n",
        "                if fname != file_list[-1]:\n",
        "                    combined_content += separator\n",
        "        except FileNotFoundError:\n",
        "            print(f\"Файл '{fname}' не найден!\")\n",
        "\n",
        "    with open(output_file, \"w\", encoding=\"utf-8\") as out_f:\n",
        "        out_f.write(combined_content)\n",
        "\n",
        "    print(f\"\\nСодержимое результирующего файла '{output_file}':\")\n",
        "    with open(output_file, \"r\", encoding=\"utf-8\") as out_f:\n",
        "        print(out_f.read())\n",
        "\n",
        "merge_files([\"file1.txt\", \"file2.txt\", \"file3.txt\"], \"merged_file.txt\")"
      ]
    },
    {
      "cell_type": "markdown",
      "id": "eb866091",
      "metadata": {
        "id": "eb866091"
      },
      "source": [
        "---"
      ]
    }
  ],
  "metadata": {
    "colab": {
      "provenance": [],
      "include_colab_link": true
    },
    "language_info": {
      "name": "python"
    },
    "kernelspec": {
      "name": "python3",
      "display_name": "Python 3"
    }
  },
  "nbformat": 4,
  "nbformat_minor": 5
}
